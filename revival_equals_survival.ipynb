{
 "cells": [
  {
   "cell_type": "markdown",
   "metadata": {},
   "source": [
    "<img src='img/cover.png'>"
   ]
  },
  {
   "cell_type": "markdown",
   "metadata": {},
   "source": [
    "## Introduction"
   ]
  },
  {
   "cell_type": "markdown",
   "metadata": {},
   "source": [
    "#### Topic"
   ]
  },
  {
   "cell_type": "markdown",
   "metadata": {},
   "source": [
    "For the theme of this project, I selected the opiate overdose crisis. We've come a long way toward recognizing addiction as a mental health issue rather than a criminal one, but there is still a lot of stigma and misunderstanding. I believe in shining a light into that darkness. And the overdose crisis is a personal issue to me; I lost my cousin, Vince, and I lost my uncle, Kevin. "
   ]
  },
  {
   "cell_type": "markdown",
   "metadata": {},
   "source": [
    "#### Structure"
   ]
  },
  {
   "cell_type": "markdown",
   "metadata": {},
   "source": [
    "This project, Learn Understand Help, is broken out into three components."
   ]
  },
  {
   "cell_type": "markdown",
   "metadata": {},
   "source": [
    "<img src='img/LUH-overview.png'>"
   ]
  },
  {
   "cell_type": "markdown",
   "metadata": {},
   "source": []
  },
  {
   "cell_type": "markdown",
   "metadata": {},
   "source": [
    "<img src=\"img/learn.png\">"
   ]
  },
  {
   "cell_type": "code",
   "execution_count": 10,
   "metadata": {},
   "outputs": [],
   "source": [
    "# NOTE: Please start Jupyter Notebook from a command prompt while \n",
    "# inside the folder of the Learn_Understand_Help repository, \n",
    "# so relative links in the notebook will work no matter where in your \n",
    "# file system your repository lives."
   ]
  },
  {
   "cell_type": "markdown",
   "metadata": {},
   "source": [
    "<img src='img/understand.png'>"
   ]
  },
  {
   "cell_type": "code",
   "execution_count": null,
   "metadata": {},
   "outputs": [],
   "source": []
  },
  {
   "cell_type": "markdown",
   "metadata": {},
   "source": [
    "<img src=\"img/help.png\">"
   ]
  },
  {
   "cell_type": "markdown",
   "metadata": {},
   "source": [
    "# HELP: Get Naloxone, reverse overdoses"
   ]
  },
  {
   "cell_type": "markdown",
   "metadata": {},
   "source": [
    "## Installations"
   ]
  },
  {
   "cell_type": "code",
   "execution_count": 2,
   "metadata": {},
   "outputs": [],
   "source": [
    "# !conda create --name shopify flask matplotlib numpy pandas requests bs4\n",
    "\n",
    "# From inside the environment:\n",
    "# !conda install -c conda-forge folium\n",
    "# !conda install -c gusdunn pdfplumber\n"
   ]
  },
  {
   "cell_type": "markdown",
   "metadata": {},
   "source": [
    "## Imports"
   ]
  },
  {
   "cell_type": "code",
   "execution_count": 1,
   "metadata": {
    "scrolled": false
   },
   "outputs": [
    {
     "name": "stdout",
     "output_type": "stream",
     "text": [
      "Exception reporting mode: Verbose\n"
     ]
    }
   ],
   "source": [
    "import folium\n",
    "import math\n",
    "import numpy as np\n",
    "import pandas as pd\n",
    "# import pdfplumber\n",
    "import requests\n",
    "import time\n",
    "\n",
    "from flask import Flask, render_template\n",
    "from folium.plugins import MarkerCluster\n",
    "\n",
    "%matplotlib inline\n",
    "# %xmode Minimal\n",
    "# %xmode Plain\n",
    "# %xmode Context\n",
    "%xmode Verbose \n",
    "# Verbose exception mode: This is for me for testing; feel free to turn it off!"
   ]
  },
  {
   "cell_type": "markdown",
   "metadata": {},
   "source": [
    "## Functions"
   ]
  },
  {
   "cell_type": "code",
   "execution_count": 2,
   "metadata": {},
   "outputs": [],
   "source": [
    "# This function uses the GeoJS API to identify or approximate \n",
    "# a user's location NOTE: This is based on IP address, which\n",
    "# reduces accuracy\n",
    "\n",
    "def identify_user_location():\n",
    "    \n",
    "    get_ip = requests.get('https://get.geojs.io/v1/ip.json') # request user's IP address\n",
    "    ip_address = get_ip.json()['ip']                         # parse via json\n",
    "    location_request = requests.get('https://get.geojs.io/v1/ip/geo/' + ip_address + '.json') \n",
    "    # request additional params\n",
    "    location_parameters = location_request.json()            # parse via json \n",
    "    user_longitude = location_parameters['longitude']\n",
    "    user_latitude = location_parameters['latitude']\n",
    "    return (user_longitude, user_latitude)\n",
    "\n",
    "# This function uses the GeoCoder.ca API to get a pair of \n",
    "# lat/long coordinates by looking up the postal code\n",
    "\n",
    "def postal_code_to_lat_long(postcode):\n",
    "    location_request = requests.get('https://geocoder.ca/?postal=' + postcode + '&geoit=XML&json=1')\n",
    "    location_parameters = location_request.json()\n",
    "    latitude = location_parameters['latt']\n",
    "    longitude = location_parameters['longt']\n",
    "    return latitude, longitude\n",
    "\n",
    "# The Haversine formula is a mathematical equation for finding the distance \n",
    "# between two points on the globe given that it is spherical and not flat.\n",
    "# The original author of this implementation is Wayne Dyck. I edited it to better suit\n",
    "# my objectives.\n",
    "\n",
    "\n",
    "def distance(origin_lat, origin_long, dest_lat, dest_long):\n",
    "\n",
    "    earths_radius = 6371 # km\n",
    "\n",
    "    dlat = math.radians(dest_lat - origin_lat)\n",
    "    dlon = math.radians(dest_long - origin_long)\n",
    "    a = math.sin(dlat/2) * math.sin(dlat/2) + math.cos(math.radians(origin_lat)) \\\n",
    "        * math.cos(math.radians(dest_lat)) * math.sin(dlon/2) * math.sin(dlon/2)\n",
    "    c = 2 * math.atan2(math.sqrt(a), math.sqrt(1-a))\n",
    "    d = earths_radius * c\n",
    "\n",
    "    return d\n",
    "\n",
    "\n",
    "# This simple function takes a pandas series representing the contents \n",
    "# of a dataframe column, and isolates the first value. It strips out some \n",
    "# extraneous values that are part of the series.\n",
    "\n",
    "def isolate_the_variable(pandas_series):\n",
    "    return pandas_series.tolist()[0]"
   ]
  },
  {
   "cell_type": "markdown",
   "metadata": {},
   "source": [
    "## Part 1: Generating the list of pharmacies\n",
    "\n",
    "A list of Ontario pharmacies can be sourced online here: \n",
    "https://www.manionwilkins.com/wp-content/uploads/2018/07/Quarterly-Disp-Fee-Rpt_with-DA-COB-claims-ESC-BOB-Q2-2018-Ontario-only-wdc-EN.pdf\n",
    "\n",
    "Note that the Toronto pharmacy database that I have built from it is strictly for proof of concept, and a production model will need to be validated for accuracy. "
   ]
  },
  {
   "cell_type": "code",
   "execution_count": 14,
   "metadata": {},
   "outputs": [],
   "source": [
    "# Launch PDFplumber to access the table data\n",
    "pdf = pdfplumber.open(\"pdf/Ontario_pharmacy_list.pdf\")\n",
    "\n",
    "# I feel like there must be a more efficient way to do this, \n",
    "# but I will leave it for now to keep moving forward on this project\n",
    "\n",
    "# Access the Toronto pages of the PDF\n",
    "p37 = pdf.pages[37]\n",
    "p38 = pdf.pages[38]\n",
    "p39 = pdf.pages[39]\n",
    "p40 = pdf.pages[40]\n",
    "p41 = pdf.pages[41]\n",
    "p42 = pdf.pages[42]\n",
    "p43 = pdf.pages[43]\n",
    "\n",
    "# Extract the text from them\n",
    "text37 = p37.extract_text()\n",
    "text38 = p38.extract_text()\n",
    "text39 = p39.extract_text()\n",
    "text40 = p40.extract_text()\n",
    "text41 = p41.extract_text()\n",
    "text42 = p42.extract_text()\n",
    "text43 = p43.extract_text()\n",
    "\n",
    "# concatenate them\n",
    "text37 = text37 + text38\n",
    "text37 = text37 + text39\n",
    "text37 = text37 + text40\n",
    "text37 = text37 + text41\n",
    "text37 = text37 + text42\n",
    "text37 = text37 + text43\n",
    "all_text = text37\n"
   ]
  },
  {
   "cell_type": "markdown",
   "metadata": {},
   "source": [
    "**MPORTANT:** Certain aspects of reviewing and correcting the output of the above could not be automated, so they were undertaken manually, applying domain knowledge. The final output can be found in the file **csv/toronto_pharmacies_initial.csv** in this Github repository."
   ]
  },
  {
   "cell_type": "markdown",
   "metadata": {},
   "source": [
    "### Reading the pharmacies into the dataframe"
   ]
  },
  {
   "cell_type": "code",
   "execution_count": 15,
   "metadata": {},
   "outputs": [],
   "source": [
    "pharmacies_to_process = pd.read_csv('csv/toronto_pharmacies_initial.csv')"
   ]
  },
  {
   "cell_type": "markdown",
   "metadata": {},
   "source": [
    "### Exploratory data analysis"
   ]
  },
  {
   "cell_type": "markdown",
   "metadata": {},
   "source": [
    "Let's have a look at our (comparatively simple) dataframe."
   ]
  },
  {
   "cell_type": "code",
   "execution_count": 16,
   "metadata": {},
   "outputs": [
    {
     "data": {
      "text/plain": [
       "Index(['Name', 'Address', 'City', 'Postcode'], dtype='object')"
      ]
     },
     "execution_count": 16,
     "metadata": {},
     "output_type": "execute_result"
    }
   ],
   "source": [
    "pharmacies_to_process.columns  # they are all strings, this is fine"
   ]
  },
  {
   "cell_type": "code",
   "execution_count": 17,
   "metadata": {},
   "outputs": [
    {
     "data": {
      "text/html": [
       "<div>\n",
       "<style scoped>\n",
       "    .dataframe tbody tr th:only-of-type {\n",
       "        vertical-align: middle;\n",
       "    }\n",
       "\n",
       "    .dataframe tbody tr th {\n",
       "        vertical-align: top;\n",
       "    }\n",
       "\n",
       "    .dataframe thead th {\n",
       "        text-align: right;\n",
       "    }\n",
       "</style>\n",
       "<table border=\"1\" class=\"dataframe\">\n",
       "  <thead>\n",
       "    <tr style=\"text-align: right;\">\n",
       "      <th></th>\n",
       "      <th>Name</th>\n",
       "      <th>Address</th>\n",
       "      <th>City</th>\n",
       "      <th>Postcode</th>\n",
       "    </tr>\n",
       "  </thead>\n",
       "  <tbody>\n",
       "    <tr>\n",
       "      <th>count</th>\n",
       "      <td>559</td>\n",
       "      <td>559</td>\n",
       "      <td>559</td>\n",
       "      <td>559</td>\n",
       "    </tr>\n",
       "    <tr>\n",
       "      <th>unique</th>\n",
       "      <td>347</td>\n",
       "      <td>556</td>\n",
       "      <td>1</td>\n",
       "      <td>531</td>\n",
       "    </tr>\n",
       "    <tr>\n",
       "      <th>top</th>\n",
       "      <td>SHOPPERS DRUG MART</td>\n",
       "      <td>939 O'CONNOR DRIVE</td>\n",
       "      <td>Toronto</td>\n",
       "      <td>M4B2S7</td>\n",
       "    </tr>\n",
       "    <tr>\n",
       "      <th>freq</th>\n",
       "      <td>85</td>\n",
       "      <td>2</td>\n",
       "      <td>559</td>\n",
       "      <td>3</td>\n",
       "    </tr>\n",
       "  </tbody>\n",
       "</table>\n",
       "</div>"
      ],
      "text/plain": [
       "                      Name             Address     City Postcode\n",
       "count                  559                 559      559      559\n",
       "unique                 347                 556        1      531\n",
       "top     SHOPPERS DRUG MART  939 O'CONNOR DRIVE  Toronto   M4B2S7\n",
       "freq                    85                   2      559        3"
      ]
     },
     "execution_count": 17,
     "metadata": {},
     "output_type": "execute_result"
    }
   ],
   "source": [
    "pharmacies_to_process.describe()"
   ]
  },
  {
   "cell_type": "code",
   "execution_count": 18,
   "metadata": {},
   "outputs": [
    {
     "data": {
      "text/html": [
       "<div>\n",
       "<style scoped>\n",
       "    .dataframe tbody tr th:only-of-type {\n",
       "        vertical-align: middle;\n",
       "    }\n",
       "\n",
       "    .dataframe tbody tr th {\n",
       "        vertical-align: top;\n",
       "    }\n",
       "\n",
       "    .dataframe thead th {\n",
       "        text-align: right;\n",
       "    }\n",
       "</style>\n",
       "<table border=\"1\" class=\"dataframe\">\n",
       "  <thead>\n",
       "    <tr style=\"text-align: right;\">\n",
       "      <th></th>\n",
       "      <th>Name</th>\n",
       "      <th>Address</th>\n",
       "      <th>City</th>\n",
       "      <th>Postcode</th>\n",
       "    </tr>\n",
       "  </thead>\n",
       "  <tbody>\n",
       "    <tr>\n",
       "      <th>0</th>\n",
       "      <td>99 PHARMACY</td>\n",
       "      <td>436 DUNDAS STREET W.</td>\n",
       "      <td>Toronto</td>\n",
       "      <td>M5T1G7</td>\n",
       "    </tr>\n",
       "    <tr>\n",
       "      <th>1</th>\n",
       "      <td>ACTION PHARMACY</td>\n",
       "      <td>101-2425 BLOOR STREET WEST</td>\n",
       "      <td>Toronto</td>\n",
       "      <td>M6S4W4</td>\n",
       "    </tr>\n",
       "    <tr>\n",
       "      <th>2</th>\n",
       "      <td>ALBION FINCH PHARMACY</td>\n",
       "      <td>6230 FINCH AVE WEST, UNIT A102</td>\n",
       "      <td>Toronto</td>\n",
       "      <td>M9V0A1</td>\n",
       "    </tr>\n",
       "    <tr>\n",
       "      <th>3</th>\n",
       "      <td>ALLCURES PHARMACY</td>\n",
       "      <td>31 ST. DENNIS DRIVE. SUITE #1</td>\n",
       "      <td>Toronto</td>\n",
       "      <td>M3C1G7</td>\n",
       "    </tr>\n",
       "    <tr>\n",
       "      <th>4</th>\n",
       "      <td>APEX DRUG MART</td>\n",
       "      <td>90 EGLINTON AVE. EAST</td>\n",
       "      <td>Toronto</td>\n",
       "      <td>M4P2Y3</td>\n",
       "    </tr>\n",
       "  </tbody>\n",
       "</table>\n",
       "</div>"
      ],
      "text/plain": [
       "                    Name                         Address     City Postcode\n",
       "0            99 PHARMACY            436 DUNDAS STREET W.  Toronto   M5T1G7\n",
       "1        ACTION PHARMACY      101-2425 BLOOR STREET WEST  Toronto   M6S4W4\n",
       "2  ALBION FINCH PHARMACY  6230 FINCH AVE WEST, UNIT A102  Toronto   M9V0A1\n",
       "3      ALLCURES PHARMACY   31 ST. DENNIS DRIVE. SUITE #1  Toronto   M3C1G7\n",
       "4         APEX DRUG MART           90 EGLINTON AVE. EAST  Toronto   M4P2Y3"
      ]
     },
     "execution_count": 18,
     "metadata": {},
     "output_type": "execute_result"
    }
   ],
   "source": [
    "pharmacies_to_process.head()"
   ]
  },
  {
   "cell_type": "code",
   "execution_count": 19,
   "metadata": {},
   "outputs": [
    {
     "data": {
      "text/html": [
       "<div>\n",
       "<style scoped>\n",
       "    .dataframe tbody tr th:only-of-type {\n",
       "        vertical-align: middle;\n",
       "    }\n",
       "\n",
       "    .dataframe tbody tr th {\n",
       "        vertical-align: top;\n",
       "    }\n",
       "\n",
       "    .dataframe thead th {\n",
       "        text-align: right;\n",
       "    }\n",
       "</style>\n",
       "<table border=\"1\" class=\"dataframe\">\n",
       "  <thead>\n",
       "    <tr style=\"text-align: right;\">\n",
       "      <th></th>\n",
       "      <th>Name</th>\n",
       "      <th>Address</th>\n",
       "      <th>City</th>\n",
       "      <th>Postcode</th>\n",
       "    </tr>\n",
       "  </thead>\n",
       "  <tbody>\n",
       "    <tr>\n",
       "      <th>554</th>\n",
       "      <td>YONGE DRUG MART</td>\n",
       "      <td>104-2399 YONGE ST</td>\n",
       "      <td>Toronto</td>\n",
       "      <td>M4P2E7</td>\n",
       "    </tr>\n",
       "    <tr>\n",
       "      <th>555</th>\n",
       "      <td>YONGE ELMWOOD PHARMACY</td>\n",
       "      <td>201-5025 YONGE STREET</td>\n",
       "      <td>Toronto</td>\n",
       "      <td>M2N5P2</td>\n",
       "    </tr>\n",
       "    <tr>\n",
       "      <th>556</th>\n",
       "      <td>YORK MEDICAL PHARMACY</td>\n",
       "      <td>491 CHURCH ST, UPSTAIRS</td>\n",
       "      <td>Toronto</td>\n",
       "      <td>M4Y2C6</td>\n",
       "    </tr>\n",
       "    <tr>\n",
       "      <th>557</th>\n",
       "      <td>YOURS PHARMACY</td>\n",
       "      <td>796 QUEEN STREET EAST</td>\n",
       "      <td>Toronto</td>\n",
       "      <td>M4M1H4</td>\n",
       "    </tr>\n",
       "    <tr>\n",
       "      <th>558</th>\n",
       "      <td>ZARA'S PHARMACY</td>\n",
       "      <td>1908 GERRARD STREET EAST, UNIT B</td>\n",
       "      <td>Toronto</td>\n",
       "      <td>M4L2C1</td>\n",
       "    </tr>\n",
       "  </tbody>\n",
       "</table>\n",
       "</div>"
      ],
      "text/plain": [
       "                       Name                            Address     City  \\\n",
       "554         YONGE DRUG MART                  104-2399 YONGE ST  Toronto   \n",
       "555  YONGE ELMWOOD PHARMACY              201-5025 YONGE STREET  Toronto   \n",
       "556   YORK MEDICAL PHARMACY           491 CHURCH ST, UPSTAIRS   Toronto   \n",
       "557          YOURS PHARMACY              796 QUEEN STREET EAST  Toronto   \n",
       "558         ZARA'S PHARMACY  1908 GERRARD STREET EAST, UNIT B   Toronto   \n",
       "\n",
       "    Postcode  \n",
       "554   M4P2E7  \n",
       "555   M2N5P2  \n",
       "556   M4Y2C6  \n",
       "557   M4M1H4  \n",
       "558   M4L2C1  "
      ]
     },
     "execution_count": 19,
     "metadata": {},
     "output_type": "execute_result"
    }
   ],
   "source": [
    "pharmacies_to_process.tail()"
   ]
  },
  {
   "cell_type": "code",
   "execution_count": 20,
   "metadata": {},
   "outputs": [
    {
     "name": "stdout",
     "output_type": "stream",
     "text": [
      "                   Name              Address     City Postcode\n",
      "394  SHOPPERS DRUG MART  2528 BAYVIEW AVENUE  Toronto   M2L1A9\n"
     ]
    }
   ],
   "source": [
    "# Check for duplicates. There is one.\n",
    "\n",
    "duplicateDFRow = pharmacies_to_process[pharmacies_to_process.duplicated()]\n",
    "print(duplicateDFRow)"
   ]
  },
  {
   "cell_type": "markdown",
   "metadata": {},
   "source": [
    "### Data cleaning and transformation"
   ]
  },
  {
   "cell_type": "code",
   "execution_count": 21,
   "metadata": {},
   "outputs": [
    {
     "data": {
      "text/html": [
       "<div>\n",
       "<style scoped>\n",
       "    .dataframe tbody tr th:only-of-type {\n",
       "        vertical-align: middle;\n",
       "    }\n",
       "\n",
       "    .dataframe tbody tr th {\n",
       "        vertical-align: top;\n",
       "    }\n",
       "\n",
       "    .dataframe thead th {\n",
       "        text-align: right;\n",
       "    }\n",
       "</style>\n",
       "<table border=\"1\" class=\"dataframe\">\n",
       "  <thead>\n",
       "    <tr style=\"text-align: right;\">\n",
       "      <th></th>\n",
       "      <th>Name</th>\n",
       "      <th>Address</th>\n",
       "      <th>City</th>\n",
       "      <th>Postcode</th>\n",
       "    </tr>\n",
       "  </thead>\n",
       "  <tbody>\n",
       "    <tr>\n",
       "      <th>0</th>\n",
       "      <td>99 Pharmacy</td>\n",
       "      <td>436 Dundas Street W.</td>\n",
       "      <td>Toronto</td>\n",
       "      <td>M5T 1G7</td>\n",
       "    </tr>\n",
       "  </tbody>\n",
       "</table>\n",
       "</div>"
      ],
      "text/plain": [
       "          Name               Address     City Postcode\n",
       "0  99 Pharmacy  436 Dundas Street W.  Toronto  M5T 1G7"
      ]
     },
     "execution_count": 21,
     "metadata": {},
     "output_type": "execute_result"
    }
   ],
   "source": [
    "# change to Upper/lower case; use a list comprehension\n",
    "for columns in pharmacies_to_process.columns:\n",
    "    pharmacies_to_process[columns] = pharmacies_to_process[columns].str.title() \n",
    "\n",
    "# get rid of any pharmacies with identical addresses\n",
    "pharmacies_to_process.drop_duplicates(subset =\"Address\", keep = False, inplace = True)\n",
    "\n",
    "# establish proper formatting for postal code \n",
    "pharmacies_to_process['Postcode'] = [str(i[:3] + ' ' + i[3:]) for i in pharmacies_to_process['Postcode']]\n",
    "\n",
    "# Confirm case change and postal code\n",
    "pharmacies_to_process.head(1)"
   ]
  },
  {
   "cell_type": "code",
   "execution_count": 22,
   "metadata": {},
   "outputs": [
    {
     "name": "stdout",
     "output_type": "stream",
     "text": [
      "Empty DataFrame\n",
      "Columns: [Name, Address, City, Postcode]\n",
      "Index: []\n"
     ]
    }
   ],
   "source": [
    "# Confirm re duplicates, empty dataframe is expected result\n",
    "duplicateDFRow = pharmacies_to_process[pharmacies_to_process.duplicated()]\n",
    "print(duplicateDFRow)"
   ]
  },
  {
   "cell_type": "code",
   "execution_count": 23,
   "metadata": {},
   "outputs": [
    {
     "data": {
      "text/html": [
       "<div>\n",
       "<style scoped>\n",
       "    .dataframe tbody tr th:only-of-type {\n",
       "        vertical-align: middle;\n",
       "    }\n",
       "\n",
       "    .dataframe tbody tr th {\n",
       "        vertical-align: top;\n",
       "    }\n",
       "\n",
       "    .dataframe thead th {\n",
       "        text-align: right;\n",
       "    }\n",
       "</style>\n",
       "<table border=\"1\" class=\"dataframe\">\n",
       "  <thead>\n",
       "    <tr style=\"text-align: right;\">\n",
       "      <th></th>\n",
       "      <th>Name</th>\n",
       "      <th>Address</th>\n",
       "      <th>City</th>\n",
       "      <th>Postcode</th>\n",
       "      <th>Latitude</th>\n",
       "      <th>Longitude</th>\n",
       "    </tr>\n",
       "  </thead>\n",
       "  <tbody>\n",
       "    <tr>\n",
       "      <th>554</th>\n",
       "      <td>Yonge Drug Mart</td>\n",
       "      <td>104-2399 Yonge St</td>\n",
       "      <td>Toronto</td>\n",
       "      <td>M4P 2E7</td>\n",
       "      <td>NaN</td>\n",
       "      <td>NaN</td>\n",
       "    </tr>\n",
       "    <tr>\n",
       "      <th>555</th>\n",
       "      <td>Yonge Elmwood Pharmacy</td>\n",
       "      <td>201-5025 Yonge Street</td>\n",
       "      <td>Toronto</td>\n",
       "      <td>M2N 5P2</td>\n",
       "      <td>NaN</td>\n",
       "      <td>NaN</td>\n",
       "    </tr>\n",
       "    <tr>\n",
       "      <th>556</th>\n",
       "      <td>York Medical Pharmacy</td>\n",
       "      <td>491 Church St, Upstairs</td>\n",
       "      <td>Toronto</td>\n",
       "      <td>M4Y 2C6</td>\n",
       "      <td>NaN</td>\n",
       "      <td>NaN</td>\n",
       "    </tr>\n",
       "    <tr>\n",
       "      <th>557</th>\n",
       "      <td>Yours Pharmacy</td>\n",
       "      <td>796 Queen Street East</td>\n",
       "      <td>Toronto</td>\n",
       "      <td>M4M 1H4</td>\n",
       "      <td>NaN</td>\n",
       "      <td>NaN</td>\n",
       "    </tr>\n",
       "    <tr>\n",
       "      <th>558</th>\n",
       "      <td>Zara'S Pharmacy</td>\n",
       "      <td>1908 Gerrard Street East, Unit B</td>\n",
       "      <td>Toronto</td>\n",
       "      <td>M4L 2C1</td>\n",
       "      <td>NaN</td>\n",
       "      <td>NaN</td>\n",
       "    </tr>\n",
       "  </tbody>\n",
       "</table>\n",
       "</div>"
      ],
      "text/plain": [
       "                       Name                            Address     City  \\\n",
       "554         Yonge Drug Mart                  104-2399 Yonge St  Toronto   \n",
       "555  Yonge Elmwood Pharmacy              201-5025 Yonge Street  Toronto   \n",
       "556   York Medical Pharmacy           491 Church St, Upstairs   Toronto   \n",
       "557          Yours Pharmacy              796 Queen Street East  Toronto   \n",
       "558         Zara'S Pharmacy  1908 Gerrard Street East, Unit B   Toronto   \n",
       "\n",
       "    Postcode  Latitude  Longitude  \n",
       "554  M4P 2E7       NaN        NaN  \n",
       "555  M2N 5P2       NaN        NaN  \n",
       "556  M4Y 2C6       NaN        NaN  \n",
       "557  M4M 1H4       NaN        NaN  \n",
       "558  M4L 2C1       NaN        NaN  "
      ]
     },
     "execution_count": 23,
     "metadata": {},
     "output_type": "execute_result"
    }
   ],
   "source": [
    "# Add latitude and longitude columns to the dataframe\n",
    "# Notice the issue with Zara's Pharmacy, can this be corrected via regex?\n",
    "\n",
    "pharmacies_to_process = pharmacies_to_process.assign(Latitude=np.nan,Longitude=np.nan)\n",
    "pharmacies_to_process.tail()"
   ]
  },
  {
   "cell_type": "code",
   "execution_count": 24,
   "metadata": {},
   "outputs": [],
   "source": [
    "# Iterate through the list and query for the longitude and latitude using the Geocoder API\n",
    "\n",
    "# PLEASE NOTE that this geocoder server can throttle requests at any time, resulting in\n",
    "# the inability to get the necessary information, so it may take a day or two to get \n",
    "# all the longitudes/latitudes. If you have set your exception mode\n",
    "# to verbose as I have above, the error message will indicate the throttling. A csv with \n",
    "# the longitude/latitudes that I pulled using this code is included as part of the Github\n",
    "# repository.\n",
    "\n",
    "# Unhash the code below (and the subsequent cell) if you wish to run the process to gather the latitude\n",
    "# and longitude coordinates. If you don't get throttled, it should complete in just under an hour\n",
    "\n",
    "# for i in range(len(pharmacies_to_process)):  # for each observation\n",
    "    \n",
    "#     # format a request in the manner that the Geocoder API expects\n",
    "#     location_request = requests.get('https://geocoder.ca/?postal=' + pharmacies_to_process['Postcode'][i] + '&geoit=XML&json=1')\n",
    "#     location_parameters = location_request.json() # Get details in json format\n",
    "#     latitude = location_parameters['latt']\n",
    "#     longitude = location_parameters['longt']\n",
    "    \n",
    "#     try:\n",
    "#         pharmacies_to_process['latitude'][i] = latitude\n",
    "            \n",
    "#     except:\n",
    "#         pharmacies_to_process['latitude'][i] = np.nan\n",
    "                    \n",
    "#     try:\n",
    "#         pharmacies_to_process['longitude'][i] = longitude\n",
    "            \n",
    "#     except:\n",
    "#         pharmacies_to_process['longitude'][i] = np.nan\n",
    "            \n",
    "#     time.sleep(5)"
   ]
  },
  {
   "cell_type": "code",
   "execution_count": 25,
   "metadata": {},
   "outputs": [],
   "source": [
    "# Save the transformed data\n",
    "# pharmacies_to_process.to_csv('csv/toronto_pharmacies_saved.csv', index = False)"
   ]
  },
  {
   "cell_type": "markdown",
   "metadata": {},
   "source": [
    "## Part 2: Using spatial data to locate the nearest pharmacy"
   ]
  },
  {
   "cell_type": "markdown",
   "metadata": {},
   "source": [
    "### Convert to geopandas dataframe and add geometry info"
   ]
  },
  {
   "cell_type": "code",
   "execution_count": 3,
   "metadata": {},
   "outputs": [
    {
     "name": "stdout",
     "output_type": "stream",
     "text": [
      "Welcome to the Naloxone pharmacy locator. May I please have your first name? Shawn\n",
      "Identifying your location, Shawn. Your closest pharmacy is Rexall, located at 474 Spadina Ave.\n"
     ]
    }
   ],
   "source": [
    "user_name = input('Welcome to the Naloxone pharmacy locator. May I please have your first name? ')\n",
    "\n",
    "user_location = identify_user_location()\n",
    "user_longitude = user_location[0]\n",
    "user_latitude = user_location[1]\n",
    "    \n",
    "# Set up a dataframe with their information\n",
    "user_details = {'Name': [user_name],\n",
    "            'Address': ['Current User Location'],\n",
    "            'City': ['Current city'],\n",
    "            'Postcode': [\"Current location postal code\"],\n",
    "            'Latitude': [user_latitude],\n",
    "            'Longitude': [user_longitude]}\n",
    "    \n",
    "user_data = pd.DataFrame(user_details)\n",
    "\n",
    "# Read in the pharmacies list and append the user's information to that dataframe\n",
    "pharmacy_locator = pd.read_csv('csv/toronto_pharmacies_final.csv', dtype = {'Longitude' : 'float64', 'Latitude' : 'float64'})\n",
    "pharmacy_locator = pharmacy_locator.append(user_data)\n",
    "\n",
    "# Convert to a geopandas geodataframe\n",
    "# pharmacy_locator = gpd.GeoDataFrame(pharmacy_locator, geometry=gpd.points_from_xy(pharmacy_locator.Longitude, pharmacy_locator.Latitude))\n",
    "\n",
    "# Ensure that all the lat/long data is datatype float not str \n",
    "pharmacy_locator = pharmacy_locator.astype({'Longitude' : 'float', 'Latitude' : 'float'})\n",
    "\n",
    "# Sort by location using pandas built-in sort_values function, \n",
    "# default algorithm is quicksort (average time commplexity is θ(n log(n))) \n",
    "pharmacy_locator.sort_values(['Longitude', 'Latitude'], ascending=[False, False], inplace=True)\n",
    "pharmacy_locator.reset_index(drop=True, inplace=True)\n",
    "\n",
    "# Now that the list (including the user's location) is sorted by location,\n",
    "# identify the two closest locations, which should be directly above and below it\n",
    "user_index = pharmacy_locator[pharmacy_locator['Name']==user_name].index.values\n",
    "user_observation = pharmacy_locator.loc[user_index]\n",
    "user_latitude = user_observation['Latitude'].tolist()[0] \n",
    "user_longitude = user_observation['Longitude'].tolist()[0]\n",
    "user_coordinates = user_latitude, user_longitude\n",
    "\n",
    "previous_observation = pharmacy_locator.loc[user_index - 1]\n",
    "subsequent_observation = pharmacy_locator.loc[user_index + 1]\n",
    "\n",
    "# Create distance-from-user column\n",
    "pharmacy_locator.insert(6, 'Distance', 0.0)\n",
    "\n",
    "# Assign to variables the long and lat of the user's location and the\n",
    "# two locations closest to it. \n",
    "\n",
    "origin_lat = isolate_the_variable(user_observation['Latitude'])\n",
    "origin_long = isolate_the_variable(user_observation['Longitude'])\n",
    "\n",
    "previous_lat = isolate_the_variable(previous_observation['Latitude'])\n",
    "previous_long = isolate_the_variable(previous_observation['Longitude'])\n",
    "\n",
    "subsequent_lat = isolate_the_variable(subsequent_observation['Latitude'])\n",
    "subsequent_long = isolate_the_variable(subsequent_observation['Longitude'])\n",
    "\n",
    "previous_distance = distance(origin_lat, origin_long, previous_lat, previous_long)\n",
    "subsequent_distance = distance(origin_lat, origin_long, subsequent_lat, subsequent_long)\n",
    "\n",
    "if previous_distance >= subsequent_distance:\n",
    "    closest_pharmacy = previous_observation\n",
    "else:\n",
    "    closest_pharmacy = subsequent_observation\n",
    "\n",
    "closest_pharmacy_latitude = isolate_the_variable(closest_pharmacy['Latitude']) \n",
    "closest_pharmacy_longitude = isolate_the_variable(closest_pharmacy['Longitude'])\n",
    "closest_pharmacy_coordinates = closest_pharmacy_latitude, closest_pharmacy_longitude\n",
    "    \n",
    "closest_PN = closest_pharmacy['Name']\n",
    "closest_pharmacy_name = isolate_the_variable(closest_PN)\n",
    "\n",
    "closest_PA = closest_pharmacy['Address']\n",
    "closest_pharmacy_address = isolate_the_variable(closest_PA)\n",
    "\n",
    "closest_PLat = closest_pharmacy['Latitude']\n",
    "closest_pharmacy_latitude = isolate_the_variable(closest_PLat)\n",
    "\n",
    "closest_PLong = closest_pharmacy['Longitude']\n",
    "closest_pharmacy_latitude = isolate_the_variable(closest_PLong)\n",
    "\n",
    "print('Identifying your location, ' + user_name + '. Your closest pharmacy is ' + closest_pharmacy_name + ', located at ' + closest_pharmacy_address + '.')\n"
   ]
  },
  {
   "cell_type": "code",
   "execution_count": 4,
   "metadata": {},
   "outputs": [
    {
     "name": "stdout",
     "output_type": "stream",
     "text": [
      "Here is a map showing your nearest pharmacy, Shawn.\n"
     ]
    }
   ],
   "source": [
    "print('Here is a map showing your nearest pharmacy, ' + user_name + '.')"
   ]
  },
  {
   "cell_type": "code",
   "execution_count": 10,
   "metadata": {},
   "outputs": [
    {
     "data": {
      "text/html": [
       "<div style=\"width:100%;\"><div style=\"position:relative;width:100%;height:0;padding-bottom:60%;\"><span style=\"color:#565656\">Make this Notebook Trusted to load map: File -> Trust Notebook</span><iframe src=\"about:blank\" style=\"position:absolute;width:100%;height:100%;left:0;top:0;border:none !important;\" data-html=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 onload=\"this.contentDocument.open();this.contentDocument.write(atob(this.getAttribute('data-html')));this.contentDocument.close();\" allowfullscreen webkitallowfullscreen mozallowfullscreen></iframe></div></div>"
      ],
      "text/plain": [
       "<folium.folium.Map at 0x21e6ff4ae88>"
      ]
     },
     "execution_count": 10,
     "metadata": {},
     "output_type": "execute_result"
    }
   ],
   "source": [
    "#Create the map\n",
    "pharmacy_map = folium.Map(location = user_coordinates, zoom_start = 13)\n",
    "                         \n",
    "folium.Marker(user_coordinates, popup = 'You are here').add_to(pharmacy_map)\n",
    "folium.Marker(closest_pharmacy_coordinates, popup = closest_pharmacy_name).add_to(pharmacy_map)\n",
    "\n",
    "#Display the map\n",
    "pharmacy_map\n"
   ]
  },
  {
   "cell_type": "markdown",
   "metadata": {},
   "source": [
    "### Building a webapp version with Flask"
   ]
  },
  {
   "cell_type": "code",
   "execution_count": 13,
   "metadata": {},
   "outputs": [
    {
     "name": "stdout",
     "output_type": "stream",
     "text": [
      " * Serving Flask app \"__main__\" (lazy loading)\n",
      " * Environment: production\n",
      "   WARNING: This is a development server. Do not use it in a production deployment.\n",
      "   Use a production WSGI server instead.\n",
      " * Debug mode: on\n"
     ]
    },
    {
     "name": "stderr",
     "output_type": "stream",
     "text": [
      " * Running on http://127.0.0.1:5000/ (Press CTRL+C to quit)\n",
      "127.0.0.1 - - [02/Sep/2020 05:22:46] \"\u001b[37mGET / HTTP/1.1\u001b[0m\" 200 -\n",
      "127.0.0.1 - - [02/Sep/2020 05:22:47] \"\u001b[33mGET /favicon.ico HTTP/1.1\u001b[0m\" 404 -\n"
     ]
    }
   ],
   "source": [
    "# Instantiate flask\n",
    "\n",
    "app = Flask(__name__)\n",
    "\n",
    "@app.route('/')\n",
    "\n",
    "def home():\n",
    "    return \"<h1> Hello World </h1>\"\n",
    "\n",
    "if __name__ ==\"__main__\":\n",
    "    app.run(debug=True, use_reloader=False)"
   ]
  },
  {
   "cell_type": "code",
   "execution_count": null,
   "metadata": {},
   "outputs": [],
   "source": []
  }
 ],
 "metadata": {
  "kernelspec": {
   "display_name": "Python 3",
   "language": "python",
   "name": "python3"
  },
  "language_info": {
   "codemirror_mode": {
    "name": "ipython",
    "version": 3
   },
   "file_extension": ".py",
   "mimetype": "text/x-python",
   "name": "python",
   "nbconvert_exporter": "python",
   "pygments_lexer": "ipython3",
   "version": "3.7.6"
  }
 },
 "nbformat": 4,
 "nbformat_minor": 4
}
