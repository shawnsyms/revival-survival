{
 "cells": [
  {
   "cell_type": "markdown",
   "metadata": {},
   "source": [
    "<img src='img/revival_hero_image-dan-meyers-unsplash.png'>"
   ]
  },
  {
   "cell_type": "markdown",
   "metadata": {},
   "source": [
    "<small>Photo by Dan Meyers for Unsplash</small>"
   ]
  },
  {
   "cell_type": "markdown",
   "metadata": {},
   "source": [
    "# Revival = Survival: A data project about the overdose crisis\n",
    "by Shawn Syms\n",
    "<br>\n",
    "<br>"
   ]
  },
  {
   "cell_type": "markdown",
   "metadata": {},
   "source": [
    "<a name=\"contents\"></a>\n",
    "## Contents\n",
    "\n",
    "* <a href=\"#executive-summary\">Executive summary</a>\n",
    "* <a href='#data-visualization'>Module 1: Data visualization: Learning about the overdose crisis in Canada and Toronto</a>\n",
    "* <a href='#predictive-model'>Module 2: Training a machine learning model to predict overdose outcomes</a>\n",
    "* <a href='#services-locator'>Module 3: Creating a simple tool to point users to the locations of recovery resources</a>\n",
    "\n",
    "> * <a href=\"#technical-configuration\">Technical configuration</a>\n",
    "> * <a href=\"#data-acquisition\">Data acquisition</a>\n",
    "> * <a href=\"#data-cleaning-and-eda\">Data cleaning, exploratory data analysis (EDA) and preprocessing</a>\n",
    "> * <a href=\"#user-experience\">User experience</a>\n"
   ]
  },
  {
   "cell_type": "markdown",
   "metadata": {},
   "source": [
    "<a name=\"executive-summary\"></a>\n",
    "## Executive summary"
   ]
  },
  {
   "cell_type": "markdown",
   "metadata": {},
   "source": [
    "The purpose of this project is three-fold. First, I use data visualization tools and techniques to tell the story of the current state of the overdose epidemic nationally and locally. Second, I have trained a machine-learning model to try and predict overdose outcomes given relevant data. Third, I've built a simple tool based on multiple geo-spatial datasets where users can access resources to help stop overdoses, including pharmacies where they can access naloxone. Carrying it on their person, anyone can save a life."
   ]
  },
  {
   "cell_type": "markdown",
   "metadata": {},
   "source": [
    "<div style=\"text-align: right\">(<a href=\"#contents\">home</a>) </div>"
   ]
  },
  {
   "cell_type": "markdown",
   "metadata": {},
   "source": [
    "<a name=\"data-visualization\"></a>\n",
    "## Module 1: Learning about the overdose crisis in Canada and Toronto through data visualization"
   ]
  },
  {
   "cell_type": "markdown",
   "metadata": {},
   "source": [
    "An interactive version of these visualizations is available online at:\n",
    "\n",
    "> <a href='https://public.tableau.com/profile/shawn.syms#!/vizhome/shared/2DNT56KHS'>Tableau Public: Shawn Syms</a>\n",
    "\n",
    "<strong>SUMMARY:</strong> I review multiple datasets with national, province and local information to see what they reveal about the opioid-overdose crisis here at home. \n",
    "\n",
    "### Key Data Points\n",
    "1. The opioid overdose crisis is a growing issue here in Canada. "
   ]
  },
  {
   "cell_type": "markdown",
   "metadata": {},
   "source": [
    "<img src='img/revival-data_visualization_1.png'>"
   ]
  },
  {
   "cell_type": "markdown",
   "metadata": {},
   "source": [
    "<br><br>\n",
    "2. Across Ontario, drugs with an astonishing toxicity are available."
   ]
  },
  {
   "cell_type": "markdown",
   "metadata": {},
   "source": [
    "<img src='img/revival-data_visualization_2.png'>"
   ]
  },
  {
   "cell_type": "markdown",
   "metadata": {},
   "source": [
    "<br><br>\n",
    "3. As Fentanyl enters the drug trade, more and more lives are lost."
   ]
  },
  {
   "cell_type": "markdown",
   "metadata": {},
   "source": [
    "<img src='img/revival-data_visualization_3.png'>"
   ]
  },
  {
   "cell_type": "markdown",
   "metadata": {},
   "source": [
    "<br><br>\n",
    "4. Deaths start to taper when Safer Injection Facilities arrive. "
   ]
  },
  {
   "cell_type": "markdown",
   "metadata": {},
   "source": [
    "<img src='img/revival-data_visualization_4.png'>"
   ]
  },
  {
   "cell_type": "markdown",
   "metadata": {},
   "source": [
    "<br><br>\n",
    "5. But there is more we can do to save lives, using Naloxone. "
   ]
  },
  {
   "cell_type": "markdown",
   "metadata": {},
   "source": [
    "<img src='img/revival-data_visualization_5.png'>"
   ]
  },
  {
   "cell_type": "markdown",
   "metadata": {},
   "source": [
    "<div style=\"text-align: right\">(<a href=\"#contents\">home</a>) </div>"
   ]
  },
  {
   "cell_type": "markdown",
   "metadata": {},
   "source": [
    "<a name=\"services-locator\"></a>\n",
    "## Module 2: Overdose resources locator"
   ]
  },
  {
   "cell_type": "markdown",
   "metadata": {},
   "source": [
    "<strong>SUMMARY:</strong> I write a basic python script to validate a user's location and identify the nearest overdose-related resources, placing them on a map. These resources include: pharmacies where the opiate-antidote naloxone can be obtained, safer injection sites as well as medical clinics focused on addiction recovery. \n",
    "\n",
    "For the moment, this is a python script in a Jupyter notebook, but the concept could be expanded to a mobile site such that user could check in real time which overdose prevention resources are in nearest proximity to them and their device.\n",
    "\n",
    "<img src='img/landing_page.png'>\n",
    "\n",
    "<a name=\"technical-configuration\"></a>\n",
    "## Technical configuration\n",
    "### Environment set-up"
   ]
  },
  {
   "cell_type": "markdown",
   "metadata": {},
   "source": [
    "This app was set up using anaconda and a virtual environment. To mimic it, run the commands below from a command prompt. If you don't have anaconda, you can use pip to achieve the same results."
   ]
  },
  {
   "cell_type": "code",
   "execution_count": 217,
   "metadata": {},
   "outputs": [],
   "source": [
    "## Anaconda virtual environment; run from a terminal window\n",
    "#\n",
    "# conda create --name shopify flask  numpy pandas requests \n",
    "#\n",
    "# From inside the newly created environment:\n",
    "# conda install -c conda-forge folium"
   ]
  },
  {
   "cell_type": "markdown",
   "metadata": {},
   "source": [
    "### Imports\n",
    "<a name=\"imports-and-functions\"></a>"
   ]
  },
  {
   "cell_type": "code",
   "execution_count": 402,
   "metadata": {
    "scrolled": false
   },
   "outputs": [],
   "source": [
    "# The following packages should be imported in order for the application to work correctly.\n",
    "\n",
    "import folium\n",
    "import math\n",
    " \n",
    "import requests\n",
    "import time\n",
    "\n",
    "from flask import Flask, render_template\n",
    "from folium.plugins import MarkerCluster\n",
    "from IPython.display import HTML\n",
    "\n",
    "# %xmode Minimal\n",
    "# %xmode Plain\n",
    "# %xmode Context\n",
    "# %xmode Verbose \n"
   ]
  },
  {
   "cell_type": "markdown",
   "metadata": {},
   "source": [
    "### Functions"
   ]
  },
  {
   "cell_type": "code",
   "execution_count": 403,
   "metadata": {},
   "outputs": [],
   "source": [
    "'''Here is a list of all functions used by the application.\n",
    "* by Shawn Syms, September 2020\n",
    "'''\n",
    "\n",
    "def geocode_ip():\n",
    "    \n",
    "    '''This function uses the GeoJS API to identify or approximate \n",
    "    * a user's location NOTE: This is based on IP address, which\n",
    "    * reduces accuracy\n",
    "    '''\n",
    "    \n",
    "    get_ip = requests.get('https://get.geojs.io/v1/ip.json') # request user's IP address\n",
    "    ip_address = get_ip.json()['ip']                         # parse via json\n",
    "    location_request = requests.get('https://get.geojs.io/v1/ip/geo/' + ip_address + '.json') \n",
    "    # request additional params\n",
    "    location_parameters = location_request.json()            # parse via json \n",
    "    user_longitude = location_parameters['longitude']\n",
    "    user_latitude = location_parameters['latitude']\n",
    "    return (user_longitude, user_latitude)\n",
    "\n",
    "\n",
    "def individual_postal_code_to_lat_long(postcode):\n",
    "    \n",
    "    ''' This function uses the GeoCoder.ca API to get a pair of \n",
    "    * lat/long coordinates by looking up the postal code\n",
    "    \n",
    "    * Geocoding by IP address is quite inaccurate, so I am considering\n",
    "    * alternative approaches\n",
    "    '''\n",
    "    \n",
    "    location_request = requests.get('https://geocoder.ca/?postal=' + postcode + '&geoit=XML&json=1')\n",
    "    location_parameters = location_request.json()\n",
    "    latitude = location_parameters['latt']\n",
    "    longitude = location_parameters['longt']\n",
    "    return latitude, longitude\n",
    "\n",
    "\n",
    "def bulk_postal_code_to_lat_long(dataframe):\n",
    "    \n",
    "    '''This function using the geocoder.ca API to get longitude and\n",
    "    * latitude values for a list of observations by supplying the \n",
    "    * postal code. Assumes that every observation includes a valid \n",
    "    * postal code\n",
    "    \n",
    "    * Note: In my testing I found the geocoder.ca lat long data\n",
    "    * to be pretty inaccurate. I ended up using a service called \"Geocoding\n",
    "    * by Awesome Table, which uses the Google Maps API and Google Sheets.\n",
    "    * Keeping this function here for posterity though.\"\n",
    "    '''\n",
    "    \n",
    "    for i in range(len(dataframe)):  # for each observation\n",
    "        # format a request in the manner that the Geocoder API expects\n",
    "        location_request = requests.get('https://geocoder.ca/?postal=' + dataframe['Postcode'][i] + '&geoit=XML&json=1')\n",
    "        location_parameters = location_request.json() # Get details in json format\n",
    "        latitude = location_parameters['latt']\n",
    "        longitude = location_parameters['longt']\n",
    "        \n",
    "        try:\n",
    "            dataframe['latitude'][i] = latitude\n",
    "            \n",
    "        except:\n",
    "            dataframe['latitude'][i] = np.nan\n",
    "                    \n",
    "        try:\n",
    "            dataframe['longitude'][i] = longitude\n",
    "            \n",
    "        except:\n",
    "            dataframe['longitude'][i] = np.nan\n",
    "            \n",
    "        time.sleep(5)\n",
    "\n",
    "\n",
    "def distance(origin_lat, origin_long, dest_lat, dest_long):\n",
    "    \n",
    "    ''' The Haversine formula is a mathematical equation for finding the distance \n",
    "    * between two points on the globe given that it is spherical and not flat.\n",
    "    * \n",
    "    * The original author of this implementation is WAYNE DYCK. I edited it \n",
    "    * to better suit my objectives.\n",
    "    * \n",
    "    * NOTE: This is distance \"as the crow flies\" -- a next step\n",
    "    * would be to if I can get use Google APIs to give distance \n",
    "    * by the shortest travel route.\n",
    "    '''\n",
    "\n",
    "    earths_radius = 6371 # km\n",
    "\n",
    "    dlat = math.radians(dest_lat - origin_lat)\n",
    "    dlon = math.radians(dest_long - origin_long)\n",
    "    a = math.sin(dlat/2) * math.sin(dlat/2) + math.cos(math.radians(origin_lat)) \\\n",
    "        * math.cos(math.radians(dest_lat)) * math.sin(dlon/2) * math.sin(dlon/2)\n",
    "    c = 2 * math.atan2(math.sqrt(a), math.sqrt(1-a))\n",
    "    d = earths_radius * c\n",
    "\n",
    "    return d\n",
    "\n",
    "\n",
    "def isolate_the_variable(pandas_series):\n",
    "    \n",
    "    '''This simple function takes a pandas series representing the contents \n",
    "    of a dataframe column, and isolates the first value. It strips out some \n",
    "    extraneous values that are part of the series.'''\n",
    "    \n",
    "    return pandas_series.tolist()[0]\n",
    "\n",
    "def exploratory_data_analysis(df):\n",
    "    \n",
    "    '''This function outputs some basic EDA information\n",
    "    about a pandas dataframe'''\n",
    "    \n",
    "    # set some variables for EDA outputs\n",
    "    columns = df.dtypes\n",
    "    described = df.describe()\n",
    "    head = df.head()\n",
    "    tail = df.tail()\n",
    "    duplicates = df[df.duplicated()]\n",
    "\n",
    "    \n",
    "    # output the values\n",
    "    \n",
    "    print('Here is the columns data:')\n",
    "    print(columns)\n",
    "    print('')\n",
    "    print('Here are the numeric components of your dataset, described:')\n",
    "    print(described)\n",
    "    print('')\n",
    "    print('Here are the first five observations:')\n",
    "    print(head)\n",
    "    print('')\n",
    "    print('Here are the final five observations:')\n",
    "    print(tail)\n",
    "    print('')\n",
    "    print('Here are any duplicate observations:')\n",
    "    print(duplicates)\n",
    "    \n",
    "def data_cleaning(df):\n",
    "    \n",
    "    '''This function applies some data hygiene to a\n",
    "    given dataset. My original pharmacy dataset was quite messy and needed this.\n",
    "    The replacement one, from the Ontario Pharmacists Association, is\n",
    "    quite clean and didn't need it. Keeping for posterity.'''\n",
    "    \n",
    "    # change to Upper/lower case; use a list comprehension\n",
    "    for columns in df.columns:\n",
    "        df[columns] = df[columns].str.title() \n",
    "\n",
    "    # get rid of any pharmacies with identical addresses\n",
    "    df.drop_duplicates(subset =\"Address\", keep = False, inplace = True)\n",
    "    \n",
    "    # establish proper formatting for postal code \n",
    "    # assumes the space is missing\n",
    "    \n",
    "    df['Postcode'] = [str(i[:3] + ' ' + i[3:]) for i in df['Postcode']]\n",
    "\n",
    "def user_experience():\n",
    "    \n",
    "    '''This function takes the user name and what the user is looking for,\n",
    "    * looks up the user's location and compares it to the appropriate\n",
    "    * dataset of recovery resources by geographic distance, and returns\n",
    "    * the resource closest to the user, on a map\n",
    "    '''\n",
    "    \n",
    "    user_name = input('Welcome! May I please have your first name? ')\n",
    "\n",
    "    user_choice = input('What do you want to do today: '\n",
    "                        '(1) Get Naloxone to save a life, '\n",
    "                        '(2) Access recovery resources,' \n",
    "                        '(3) Access safer-injection facilities? ')\n",
    "    \n",
    "    # Distinguish between three types of resources and set variables\n",
    "    if user_choice == '1':\n",
    "        df = pd.read_csv('csv/locator/official_toronto_pharmacy_roster.csv')\n",
    "        locator_type = \"pharmacy\"\n",
    "        print(\"\")\n",
    "        print(\"Naloxone is available at your nearest pharmacy.\")\n",
    "        print(\"\")\n",
    "    elif user_choice == '2':\n",
    "        df = pd.read_csv('csv/locator/toronto-raam_clinic_locations.csv')\n",
    "        locator_type = \"Rapid Access to Addiction Medicine clinic\"\n",
    "        print(\"\")\n",
    "        print(\"If you or someone you know is serious about recovery,\")\n",
    "        print(\"physicians at a rapid-access-to-addiction-medicine (RAAM)\")\n",
    "        print(\"clinic and help you today.\")\n",
    "        print(\"\")\n",
    "\n",
    "    elif user_choice == '3':\n",
    "        df = pd.read_csv('csv/locator/toronto-safe_site_locations.csv')\n",
    "        locator_type = 'safer injection facility'\n",
    "        print(\"\")\n",
    "        print(\"People who inject drugs should ideally never do so alone.\")\n",
    "        print(\"Visit the nearest safer injection site.\")\n",
    "        print(\"\")\n",
    "    \n",
    "    # default to the pharmacy locator if the input is ambiguous\n",
    "    \n",
    "    else:\n",
    "        df = pd.read_csv('csv/locator/official_toronto_pharmacy_roster.csv')\n",
    "        locator_type = \"pharmacy\"\n",
    "        print(\"\")\n",
    "        print(\"Naloxone is available at your nearest pharmacy.\")\n",
    "        print(\"\")\n",
    "\n",
    "    # identify user's location by IP\n",
    "    # Replace this with HMTL 5 Geolocation in JS/Leaflet/Flask version\n",
    "\n",
    "    user_location = geocode()\n",
    "    user_latitude = user_location[1]\n",
    "    user_longitude = user_location[0]\n",
    "    user_coordinates=str(user_location[1] + ',' + user_location[0])\n",
    "\n",
    "    # Set up a dataframe with their information\n",
    "\n",
    "    user_details = {'Name': [user_name],\n",
    "            'Address': ['Current User Location'],\n",
    "            'City': ['Current city'],\n",
    "            'Postcode': [\"Current location postal code\"],\n",
    "            'Latitude': [user_latitude],\n",
    "            'Longitude': [user_longitude],\n",
    "            'Distance': 0}\n",
    "\n",
    "    user_data = pd.DataFrame(user_details)\n",
    "    df = df.append(user_data) # append it to the dataframe in memory\n",
    "    df = df.astype({'Longitude' : 'float', 'Latitude' : 'float'})\n",
    "    df.reset_index(drop=True, inplace=True)\n",
    "\n",
    "    # Set some variables related to the user\n",
    "    user_index = df[df['Name']==user_name].index.values\n",
    "    user_observation = df.loc[user_index]\n",
    "    user_latitude = user_observation['Latitude'].tolist()[0] \n",
    "    user_longitude = user_observation['Longitude'].tolist()[0]\n",
    "    user_coordinates = user_latitude, user_longitude\n",
    "    \n",
    "    ''' Loop through the dataset calculating distance from user\n",
    "    * for each one. This solution scales to the city pharmacist\n",
    "    * dataset with ease, but a different approach would be needed to \n",
    "    * scale up to provincial or national data\n",
    "    '''\n",
    "\n",
    "    for i in (range(len(df))):\n",
    "        df['Distance'][i] = distance(user_observation['Latitude'],\n",
    "                                  user_observation['Longitude'], \n",
    "                                  df['Latitude'][i],\n",
    "                                  df['Longitude'][i])\n",
    "    df.sort_values(by=['Distance'], inplace=True)\n",
    "    df.reset_index(drop=True, inplace=True)\n",
    "    \n",
    "    # Identify the closest location\n",
    "    closest_location = df.loc[1]\n",
    "    closest_location_coordinates = closest_location['Latitude'], closest_location['Longitude']\n",
    "\n",
    "    # Return the results\n",
    "    print(user_name + ', your closest ' + locator_type + ' is ' + closest_location['Name'] + ', located at ' + closest_location['Address'] + '.')\n",
    "    print('Here is a map showing your nearest ' + locator_type + \", \" + user_name + '.')\n",
    "\n",
    "    #Create the map\n",
    "    locator_map = folium.Map(location = user_coordinates, zoom_start = 13)\n",
    "\n",
    "    folium.Marker(user_coordinates, popup = 'You are here').add_to(locator_map)\n",
    "    folium.Marker(closest_location_coordinates, popup = closest_location['Name']).add_to(locator_map)\n",
    "\n",
    "    #Display the map\n",
    "    return(locator_map)\n",
    "        \n"
   ]
  },
  {
   "cell_type": "markdown",
   "metadata": {},
   "source": [
    "<div style=\"text-align: right\">(<a href=\"#contents\">home</a>) </div>"
   ]
  },
  {
   "cell_type": "markdown",
   "metadata": {},
   "source": [
    "<a name=\"data-acquisition\"></a>\n",
    "### Data acquisition"
   ]
  },
  {
   "cell_type": "markdown",
   "metadata": {},
   "source": [
    "This app includes code that will do a geo-spatial lookup of support resources for people who want to help prevent drug overdoses. See the readme file for source locations for all relevant datasets. Copies of the datasets can be found in this Github repository in the csv directory. (Note: All of the datasets used in the data visualizations above can be found in that directory as well.) First, the datasets are explored and cleaned."
   ]
  },
  {
   "cell_type": "markdown",
   "metadata": {},
   "source": [
    "<div style=\"text-align: right\">(<a href=\"#contents\">home</a>) </div>"
   ]
  },
  {
   "cell_type": "markdown",
   "metadata": {},
   "source": [
    "<a name=\"data-cleaning-and-eda\"></a>\n",
    "## Data cleaning, exploratory data analysis and preprocessing\n",
    "\n",
    "### Pharmacies"
   ]
  },
  {
   "cell_type": "markdown",
   "metadata": {},
   "source": [
    "Pharmacies across the province and around Ontario dispense Naloxone kits and offer training on their use. Let's have a look at our Toronto pharmacies dataset."
   ]
  },
  {
   "cell_type": "code",
   "execution_count": 225,
   "metadata": {},
   "outputs": [
    {
     "name": "stdout",
     "output_type": "stream",
     "text": [
      "Here is the columns data:\n",
      "Name          object\n",
      "Address       object\n",
      "Phone         object\n",
      "City          object\n",
      "Postcode      object\n",
      "Latitude     float64\n",
      "Longitude    float64\n",
      "Distance       int64\n",
      "dtype: object\n",
      "\n",
      "Here are the numeric components of your dataset, described:\n",
      "         Latitude   Longitude  Distance\n",
      "count  543.000000  543.000000     543.0\n",
      "mean    43.683824  -79.398612       0.0\n",
      "std      0.038630    0.066840       0.0\n",
      "min     43.589969  -79.603678       0.0\n",
      "25%     43.656498  -79.438192       0.0\n",
      "50%     43.671491  -79.393801       0.0\n",
      "75%     43.703384  -79.365980       0.0\n",
      "max     43.835605  -79.185016       0.0\n",
      "\n",
      "Here are the first five observations:\n",
      "                      Name                Address           Phone     City  \\\n",
      "0       1ClinicRx Pharmacy            16 Yonge St  (647) 344-8800  Toronto   \n",
      "1              99 Pharmacy       436 Dundas St. W  (416) 977-8338  Toronto   \n",
      "2          Action Pharmacy        2425 Bloor St W  (416) 766-2401  Toronto   \n",
      "3    Albion Finch Pharmacy  A102-6230 Finch Ave W  (416) 743-2100  Toronto   \n",
      "4  Albion Medical Pharmacy       A1-900 Albion Rd  (416) 740-5500  Toronto   \n",
      "\n",
      "  Postcode   Latitude  Longitude  Distance  \n",
      "0  M5E 2A1  43.643543 -79.376026         0  \n",
      "1  M5T 1G7  43.653557 -79.395664         0  \n",
      "2  M6S 4W4  43.649182 -79.483483         0  \n",
      "3  M9V 0A1  43.741619 -79.589446         0  \n",
      "4  M9V 1A5  43.735321 -79.559993         0  \n",
      "\n",
      "Here are the final five observations:\n",
      "                         Name            Address           Phone     City  \\\n",
      "538        Woodgreen Pharmacy  101-69 Queen St E  (416) 367-8686  Toronto   \n",
      "539          Woods Drug Store    130 Kingston Rd  (416) 691-3771  Toronto   \n",
      "540  Woodvalley Pharmacy Inc.    130 Industry St  (647) 284-9243  Toronto   \n",
      "541           Yonge Drug Mart  104-2399 Yonge St  (416) 481-2444  Toronto   \n",
      "542           Zara's Pharmacy  1908 Gerrard St E  (416) 901-5585  Toronto   \n",
      "\n",
      "    Postcode   Latitude  Longitude  Distance  \n",
      "538  M5C 1R8  43.653197 -79.374767         0  \n",
      "539  M4L 1S7  43.670510 -79.311351         0  \n",
      "540  M6M 5G3  43.695050 -79.494467         0  \n",
      "541  M4P 2E7  43.710075 -79.398705         0  \n",
      "542  M4L 2C1  43.680482 -79.312204         0  \n",
      "\n",
      "Here are any duplicate observations:\n",
      "Empty DataFrame\n",
      "Columns: [Name, Address, Phone, City, Postcode, Latitude, Longitude, Distance]\n",
      "Index: []\n"
     ]
    }
   ],
   "source": [
    "pharmacies = pd.read_csv('csv/locator/official_toronto_pharmacy_roster.csv')\n",
    "\n",
    "exploratory_data_analysis(pharmacies)"
   ]
  },
  {
   "cell_type": "markdown",
   "metadata": {},
   "source": [
    "<div style=\"text-align: right\">(<a href=\"#contents\">home</a>) </div>"
   ]
  },
  {
   "cell_type": "markdown",
   "metadata": {},
   "source": [
    "### Toronto safer-injection sites"
   ]
  },
  {
   "cell_type": "markdown",
   "metadata": {},
   "source": [
    "Safer-injection sites offer supervision in order to mitigate overdose risk. An app user may need this information for themselves or someone they know. Let's have a look at our Toronto dataset of safer-injection sites."
   ]
  },
  {
   "cell_type": "code",
   "execution_count": 226,
   "metadata": {
    "scrolled": true
   },
   "outputs": [
    {
     "name": "stdout",
     "output_type": "stream",
     "text": [
      "Here is the columns data:\n",
      "Name          object\n",
      "Address       object\n",
      "City          object\n",
      "Province      object\n",
      "Postcode      object\n",
      "Latitude     float64\n",
      "Longitude    float64\n",
      "Distance     float64\n",
      "dtype: object\n",
      "\n",
      "Here are the numeric components of your dataset, described:\n",
      "        Latitude  Longitude  Distance\n",
      "count   9.000000   9.000000       9.0\n",
      "mean   43.654267 -79.381488       0.0\n",
      "std     0.006294   0.026656       0.0\n",
      "min    43.641824 -79.429466       0.0\n",
      "25%    43.653650 -79.403172       0.0\n",
      "50%    43.656426 -79.372785       0.0\n",
      "75%    43.658689 -79.369567       0.0\n",
      "max    43.661143 -79.339202       0.0\n",
      "\n",
      "Here are the first five observations:\n",
      "                                                Name                 Address  \\\n",
      "0               Fred Victor Overdose Prevention Site   145 Queen Street East   \n",
      "1                 Moss Park Overdose Prevention Site   134 Sherbourne Street   \n",
      "2  Parkdale Queen West Community Health Centre Ov...     168 Bathurst Street   \n",
      "3                  Parkdale Overdose Prevention Site  1229 Queen Street West   \n",
      "4               Regent Park Overdose Prevention Site  465 Dundas Street East   \n",
      "\n",
      "      City Province Postcode   Latitude  Longitude  Distance  \n",
      "0  Toronto  Ontario  M5A 1S1  43.653650 -79.372785       0.0  \n",
      "1  Toronto  Ontario  M5A 4J4  43.654171 -79.369567       0.0  \n",
      "2  Toronto  Ontario  M5V 2R4  43.646589 -79.404227       0.0  \n",
      "3  Toronto  Ontario  M6K 1L2  43.641824 -79.429466       0.0  \n",
      "4  Toronto  Ontario  M5A 2B2  43.659376 -79.365585       0.0  \n",
      "\n",
      "Here are the final five observations:\n",
      "                                      Name                 Address     City  \\\n",
      "4     Regent Park Overdose Prevention Site  465 Dundas Street East  Toronto   \n",
      "5  South Riverdale Community Health Centre   955 Queen Street East  Toronto   \n",
      "6            St. Stephen's Community House      260 Augusta Avenue  Toronto   \n",
      "7                            Street Health  338 Dundas Street East  Toronto   \n",
      "8                                The Works     277 Victoria Street  Toronto   \n",
      "\n",
      "  Province Postcode   Latitude  Longitude  Distance  \n",
      "4  Ontario  M5A 2B2  43.659376 -79.365585       0.0  \n",
      "5  Ontario  M4M 3P3  43.661143 -79.339202       0.0  \n",
      "6  Ontario  M5T 2L9  43.656426 -79.403172       0.0  \n",
      "7  Ontario  M5A 2A1  43.658689 -79.370007       0.0  \n",
      "8  Ontario  M5B 1W2  43.656536 -79.379377       0.0  \n",
      "\n",
      "Here are any duplicate observations:\n",
      "Empty DataFrame\n",
      "Columns: [Name, Address, City, Province, Postcode, Latitude, Longitude, Distance]\n",
      "Index: []\n"
     ]
    }
   ],
   "source": [
    "safe_sites = pd.read_csv('csv/locator/toronto-safe_site_locations.csv')\n",
    "\n",
    "exploratory_data_analysis(safe_sites)"
   ]
  },
  {
   "cell_type": "code",
   "execution_count": 227,
   "metadata": {
    "scrolled": true
   },
   "outputs": [
    {
     "data": {
      "text/html": [
       "<div>\n",
       "<style scoped>\n",
       "    .dataframe tbody tr th:only-of-type {\n",
       "        vertical-align: middle;\n",
       "    }\n",
       "\n",
       "    .dataframe tbody tr th {\n",
       "        vertical-align: top;\n",
       "    }\n",
       "\n",
       "    .dataframe thead th {\n",
       "        text-align: right;\n",
       "    }\n",
       "</style>\n",
       "<table border=\"1\" class=\"dataframe\">\n",
       "  <thead>\n",
       "    <tr style=\"text-align: right;\">\n",
       "      <th></th>\n",
       "      <th>Name</th>\n",
       "      <th>Address</th>\n",
       "      <th>City</th>\n",
       "      <th>Province</th>\n",
       "      <th>Postcode</th>\n",
       "      <th>Latitude</th>\n",
       "      <th>Longitude</th>\n",
       "      <th>Distance</th>\n",
       "    </tr>\n",
       "  </thead>\n",
       "  <tbody>\n",
       "    <tr>\n",
       "      <th>0</th>\n",
       "      <td>Fred Victor Overdose Prevention Site</td>\n",
       "      <td>145 Queen Street East</td>\n",
       "      <td>Toronto</td>\n",
       "      <td>Ontario</td>\n",
       "      <td>M5A 1S1</td>\n",
       "      <td>43.653650</td>\n",
       "      <td>-79.372785</td>\n",
       "      <td>0.0</td>\n",
       "    </tr>\n",
       "    <tr>\n",
       "      <th>1</th>\n",
       "      <td>Moss Park Overdose Prevention Site</td>\n",
       "      <td>134 Sherbourne Street</td>\n",
       "      <td>Toronto</td>\n",
       "      <td>Ontario</td>\n",
       "      <td>M5A 4J4</td>\n",
       "      <td>43.654171</td>\n",
       "      <td>-79.369567</td>\n",
       "      <td>0.0</td>\n",
       "    </tr>\n",
       "    <tr>\n",
       "      <th>2</th>\n",
       "      <td>Parkdale Queen West Community Health Centre Ov...</td>\n",
       "      <td>168 Bathurst Street</td>\n",
       "      <td>Toronto</td>\n",
       "      <td>Ontario</td>\n",
       "      <td>M5V 2R4</td>\n",
       "      <td>43.646589</td>\n",
       "      <td>-79.404227</td>\n",
       "      <td>0.0</td>\n",
       "    </tr>\n",
       "    <tr>\n",
       "      <th>3</th>\n",
       "      <td>Parkdale Overdose Prevention Site</td>\n",
       "      <td>1229 Queen Street West</td>\n",
       "      <td>Toronto</td>\n",
       "      <td>Ontario</td>\n",
       "      <td>M6K 1L2</td>\n",
       "      <td>43.641824</td>\n",
       "      <td>-79.429466</td>\n",
       "      <td>0.0</td>\n",
       "    </tr>\n",
       "    <tr>\n",
       "      <th>4</th>\n",
       "      <td>Regent Park Overdose Prevention Site</td>\n",
       "      <td>465 Dundas Street East</td>\n",
       "      <td>Toronto</td>\n",
       "      <td>Ontario</td>\n",
       "      <td>M5A 2B2</td>\n",
       "      <td>43.659376</td>\n",
       "      <td>-79.365585</td>\n",
       "      <td>0.0</td>\n",
       "    </tr>\n",
       "    <tr>\n",
       "      <th>5</th>\n",
       "      <td>South Riverdale Community Health Centre</td>\n",
       "      <td>955 Queen Street East</td>\n",
       "      <td>Toronto</td>\n",
       "      <td>Ontario</td>\n",
       "      <td>M4M 3P3</td>\n",
       "      <td>43.661143</td>\n",
       "      <td>-79.339202</td>\n",
       "      <td>0.0</td>\n",
       "    </tr>\n",
       "    <tr>\n",
       "      <th>6</th>\n",
       "      <td>St. Stephen's Community House</td>\n",
       "      <td>260 Augusta Avenue</td>\n",
       "      <td>Toronto</td>\n",
       "      <td>Ontario</td>\n",
       "      <td>M5T 2L9</td>\n",
       "      <td>43.656426</td>\n",
       "      <td>-79.403172</td>\n",
       "      <td>0.0</td>\n",
       "    </tr>\n",
       "    <tr>\n",
       "      <th>7</th>\n",
       "      <td>Street Health</td>\n",
       "      <td>338 Dundas Street East</td>\n",
       "      <td>Toronto</td>\n",
       "      <td>Ontario</td>\n",
       "      <td>M5A 2A1</td>\n",
       "      <td>43.658689</td>\n",
       "      <td>-79.370007</td>\n",
       "      <td>0.0</td>\n",
       "    </tr>\n",
       "    <tr>\n",
       "      <th>8</th>\n",
       "      <td>The Works</td>\n",
       "      <td>277 Victoria Street</td>\n",
       "      <td>Toronto</td>\n",
       "      <td>Ontario</td>\n",
       "      <td>M5B 1W2</td>\n",
       "      <td>43.656536</td>\n",
       "      <td>-79.379377</td>\n",
       "      <td>0.0</td>\n",
       "    </tr>\n",
       "  </tbody>\n",
       "</table>\n",
       "</div>"
      ],
      "text/plain": [
       "                                                Name                 Address  \\\n",
       "0               Fred Victor Overdose Prevention Site   145 Queen Street East   \n",
       "1                 Moss Park Overdose Prevention Site   134 Sherbourne Street   \n",
       "2  Parkdale Queen West Community Health Centre Ov...     168 Bathurst Street   \n",
       "3                  Parkdale Overdose Prevention Site  1229 Queen Street West   \n",
       "4               Regent Park Overdose Prevention Site  465 Dundas Street East   \n",
       "5            South Riverdale Community Health Centre   955 Queen Street East   \n",
       "6                      St. Stephen's Community House      260 Augusta Avenue   \n",
       "7                                      Street Health  338 Dundas Street East   \n",
       "8                                          The Works     277 Victoria Street   \n",
       "\n",
       "      City Province Postcode   Latitude  Longitude  Distance  \n",
       "0  Toronto  Ontario  M5A 1S1  43.653650 -79.372785       0.0  \n",
       "1  Toronto  Ontario  M5A 4J4  43.654171 -79.369567       0.0  \n",
       "2  Toronto  Ontario  M5V 2R4  43.646589 -79.404227       0.0  \n",
       "3  Toronto  Ontario  M6K 1L2  43.641824 -79.429466       0.0  \n",
       "4  Toronto  Ontario  M5A 2B2  43.659376 -79.365585       0.0  \n",
       "5  Toronto  Ontario  M4M 3P3  43.661143 -79.339202       0.0  \n",
       "6  Toronto  Ontario  M5T 2L9  43.656426 -79.403172       0.0  \n",
       "7  Toronto  Ontario  M5A 2A1  43.658689 -79.370007       0.0  \n",
       "8  Toronto  Ontario  M5B 1W2  43.656536 -79.379377       0.0  "
      ]
     },
     "execution_count": 227,
     "metadata": {},
     "output_type": "execute_result"
    }
   ],
   "source": [
    "safe_sites"
   ]
  },
  {
   "cell_type": "markdown",
   "metadata": {},
   "source": [
    "<div style=\"text-align: right\">(<a href=\"#contents\">home</a>) </div>"
   ]
  },
  {
   "cell_type": "markdown",
   "metadata": {},
   "source": [
    "### Toronto RAAM clinics"
   ]
  },
  {
   "cell_type": "markdown",
   "metadata": {},
   "source": [
    "A Rapid Access to Addictive Medicine (RAAM) clinic offers medical treatment for problem substance use. An app user may need this information for themselves or someone they know. Let's have a look at our Toronto dataset of RAAM clinics."
   ]
  },
  {
   "cell_type": "code",
   "execution_count": 228,
   "metadata": {
    "scrolled": true
   },
   "outputs": [
    {
     "name": "stdout",
     "output_type": "stream",
     "text": [
      "Here is the columns data:\n",
      "Name          object\n",
      "Address       object\n",
      "Phone         object\n",
      "City          object\n",
      "Province      object\n",
      "Postcode      object\n",
      "Latitude     float64\n",
      "Longitude    float64\n",
      "Distance       int64\n",
      "dtype: object\n",
      "\n",
      "Here are the numeric components of your dataset, described:\n",
      "        Latitude  Longitude  Distance\n",
      "count   9.000000   9.000000       9.0\n",
      "mean   43.675460 -79.396372       0.0\n",
      "std     0.030269   0.047768       0.0\n",
      "min    43.640394 -79.488756       0.0\n",
      "25%    43.653735 -79.405942       0.0\n",
      "50%    43.664728 -79.385876       0.0\n",
      "75%    43.689871 -79.374172       0.0\n",
      "max    43.723780 -79.324858       0.0\n",
      "\n",
      "Here are the first five observations:\n",
      "                       Name                           Address  \\\n",
      "0      Unity Health Toronto        30 Bond Street, 17th floor   \n",
      "1     Humber River Hospital     1235 Wilson Avenue, 5th floor   \n",
      "2  Women's College Hospital    76 Grenville Street, 3rd floor   \n",
      "3      Unity Health Toronto  410 Sherbourne Street, 1st floor   \n",
      "4      Unity Health Toronto    30 The Queensway, Ground floor   \n",
      "\n",
      "                Phone     City Province Postcode   Latitude  Longitude  \\\n",
      "0  416-864-6060 x2567  Toronto  Ontario  M5B 1X1  43.653735 -79.377398   \n",
      "1      1-888-399-8342  Toronto  Ontario  M3M 3G7  43.723780 -79.488756   \n",
      "2     416-323-7559 x6  Toronto  Ontario  M5S 1B2  43.661514 -79.387121   \n",
      "3        416-864-3096  Toronto  Ontario  M4X 1K2  43.664728 -79.374172   \n",
      "4  416-530-6486 x3969  Toronto  Ontario  M6R 1B5  43.640394 -79.450347   \n",
      "\n",
      "   Distance  \n",
      "0         0  \n",
      "1         0  \n",
      "2         0  \n",
      "3         0  \n",
      "4         0  \n",
      "\n",
      "Here are the final five observations:\n",
      "                                Name                           Address  \\\n",
      "4               Unity Health Toronto    30 The Queensway, Ground floor   \n",
      "5          University Health Network   399 Bathurst Street, 1st floor,   \n",
      "6            Michael Garron Hospital                825 Coxwell Avenue   \n",
      "7  Sunnybrook Health Sciences Centre    2075 Bayview Avenue, Room A146   \n",
      "8          Anishnawbe Health Toronto  4 Charles Street East, 3rd floor   \n",
      "\n",
      "                Phone     City Province Postcode   Latitude  Longitude  \\\n",
      "4  416-530-6486 x3969  Toronto  Ontario  M6R 1B5  43.640394 -79.450347   \n",
      "5        416-726-5052  Toronto  Ontario  M5T 2S8  43.653386 -79.405942   \n",
      "6        416-461-8272  Toronto  Ontario  M4C 3E7  43.689871 -79.324858   \n",
      "7        416-480-6736  Toronto  Ontario  M4N 3M5  43.722846 -79.372875   \n",
      "8   416-657-0379 x234  Toronto  Ontario  M4Y 1T2  43.668886 -79.385876   \n",
      "\n",
      "   Distance  \n",
      "4         0  \n",
      "5         0  \n",
      "6         0  \n",
      "7         0  \n",
      "8         0  \n",
      "\n",
      "Here are any duplicate observations:\n",
      "Empty DataFrame\n",
      "Columns: [Name, Address, Phone, City, Province, Postcode, Latitude, Longitude, Distance]\n",
      "Index: []\n"
     ]
    }
   ],
   "source": [
    "raam_clinics = pd.read_csv('csv/locator/toronto-raam_clinic_locations.csv')\n",
    "\n",
    "exploratory_data_analysis(raam_clinics)"
   ]
  },
  {
   "cell_type": "code",
   "execution_count": 229,
   "metadata": {},
   "outputs": [
    {
     "data": {
      "text/html": [
       "<div>\n",
       "<style scoped>\n",
       "    .dataframe tbody tr th:only-of-type {\n",
       "        vertical-align: middle;\n",
       "    }\n",
       "\n",
       "    .dataframe tbody tr th {\n",
       "        vertical-align: top;\n",
       "    }\n",
       "\n",
       "    .dataframe thead th {\n",
       "        text-align: right;\n",
       "    }\n",
       "</style>\n",
       "<table border=\"1\" class=\"dataframe\">\n",
       "  <thead>\n",
       "    <tr style=\"text-align: right;\">\n",
       "      <th></th>\n",
       "      <th>Name</th>\n",
       "      <th>Address</th>\n",
       "      <th>Phone</th>\n",
       "      <th>City</th>\n",
       "      <th>Province</th>\n",
       "      <th>Postcode</th>\n",
       "      <th>Latitude</th>\n",
       "      <th>Longitude</th>\n",
       "      <th>Distance</th>\n",
       "    </tr>\n",
       "  </thead>\n",
       "  <tbody>\n",
       "    <tr>\n",
       "      <th>0</th>\n",
       "      <td>Unity Health Toronto</td>\n",
       "      <td>30 Bond Street, 17th floor</td>\n",
       "      <td>416-864-6060 x2567</td>\n",
       "      <td>Toronto</td>\n",
       "      <td>Ontario</td>\n",
       "      <td>M5B 1X1</td>\n",
       "      <td>43.653735</td>\n",
       "      <td>-79.377398</td>\n",
       "      <td>0</td>\n",
       "    </tr>\n",
       "    <tr>\n",
       "      <th>1</th>\n",
       "      <td>Humber River Hospital</td>\n",
       "      <td>1235 Wilson Avenue, 5th floor</td>\n",
       "      <td>1-888-399-8342</td>\n",
       "      <td>Toronto</td>\n",
       "      <td>Ontario</td>\n",
       "      <td>M3M 3G7</td>\n",
       "      <td>43.723780</td>\n",
       "      <td>-79.488756</td>\n",
       "      <td>0</td>\n",
       "    </tr>\n",
       "    <tr>\n",
       "      <th>2</th>\n",
       "      <td>Women's College Hospital</td>\n",
       "      <td>76 Grenville Street, 3rd floor</td>\n",
       "      <td>416-323-7559 x6</td>\n",
       "      <td>Toronto</td>\n",
       "      <td>Ontario</td>\n",
       "      <td>M5S 1B2</td>\n",
       "      <td>43.661514</td>\n",
       "      <td>-79.387121</td>\n",
       "      <td>0</td>\n",
       "    </tr>\n",
       "    <tr>\n",
       "      <th>3</th>\n",
       "      <td>Unity Health Toronto</td>\n",
       "      <td>410 Sherbourne Street, 1st floor</td>\n",
       "      <td>416-864-3096</td>\n",
       "      <td>Toronto</td>\n",
       "      <td>Ontario</td>\n",
       "      <td>M4X 1K2</td>\n",
       "      <td>43.664728</td>\n",
       "      <td>-79.374172</td>\n",
       "      <td>0</td>\n",
       "    </tr>\n",
       "    <tr>\n",
       "      <th>4</th>\n",
       "      <td>Unity Health Toronto</td>\n",
       "      <td>30 The Queensway, Ground floor</td>\n",
       "      <td>416-530-6486 x3969</td>\n",
       "      <td>Toronto</td>\n",
       "      <td>Ontario</td>\n",
       "      <td>M6R 1B5</td>\n",
       "      <td>43.640394</td>\n",
       "      <td>-79.450347</td>\n",
       "      <td>0</td>\n",
       "    </tr>\n",
       "    <tr>\n",
       "      <th>5</th>\n",
       "      <td>University Health Network</td>\n",
       "      <td>399 Bathurst Street, 1st floor,</td>\n",
       "      <td>416-726-5052</td>\n",
       "      <td>Toronto</td>\n",
       "      <td>Ontario</td>\n",
       "      <td>M5T 2S8</td>\n",
       "      <td>43.653386</td>\n",
       "      <td>-79.405942</td>\n",
       "      <td>0</td>\n",
       "    </tr>\n",
       "    <tr>\n",
       "      <th>6</th>\n",
       "      <td>Michael Garron Hospital</td>\n",
       "      <td>825 Coxwell Avenue</td>\n",
       "      <td>416-461-8272</td>\n",
       "      <td>Toronto</td>\n",
       "      <td>Ontario</td>\n",
       "      <td>M4C 3E7</td>\n",
       "      <td>43.689871</td>\n",
       "      <td>-79.324858</td>\n",
       "      <td>0</td>\n",
       "    </tr>\n",
       "    <tr>\n",
       "      <th>7</th>\n",
       "      <td>Sunnybrook Health Sciences Centre</td>\n",
       "      <td>2075 Bayview Avenue, Room A146</td>\n",
       "      <td>416-480-6736</td>\n",
       "      <td>Toronto</td>\n",
       "      <td>Ontario</td>\n",
       "      <td>M4N 3M5</td>\n",
       "      <td>43.722846</td>\n",
       "      <td>-79.372875</td>\n",
       "      <td>0</td>\n",
       "    </tr>\n",
       "    <tr>\n",
       "      <th>8</th>\n",
       "      <td>Anishnawbe Health Toronto</td>\n",
       "      <td>4 Charles Street East, 3rd floor</td>\n",
       "      <td>416-657-0379 x234</td>\n",
       "      <td>Toronto</td>\n",
       "      <td>Ontario</td>\n",
       "      <td>M4Y 1T2</td>\n",
       "      <td>43.668886</td>\n",
       "      <td>-79.385876</td>\n",
       "      <td>0</td>\n",
       "    </tr>\n",
       "  </tbody>\n",
       "</table>\n",
       "</div>"
      ],
      "text/plain": [
       "                                Name                           Address  \\\n",
       "0               Unity Health Toronto        30 Bond Street, 17th floor   \n",
       "1              Humber River Hospital     1235 Wilson Avenue, 5th floor   \n",
       "2           Women's College Hospital    76 Grenville Street, 3rd floor   \n",
       "3               Unity Health Toronto  410 Sherbourne Street, 1st floor   \n",
       "4               Unity Health Toronto    30 The Queensway, Ground floor   \n",
       "5          University Health Network   399 Bathurst Street, 1st floor,   \n",
       "6            Michael Garron Hospital                825 Coxwell Avenue   \n",
       "7  Sunnybrook Health Sciences Centre    2075 Bayview Avenue, Room A146   \n",
       "8          Anishnawbe Health Toronto  4 Charles Street East, 3rd floor   \n",
       "\n",
       "                Phone     City Province Postcode   Latitude  Longitude  \\\n",
       "0  416-864-6060 x2567  Toronto  Ontario  M5B 1X1  43.653735 -79.377398   \n",
       "1      1-888-399-8342  Toronto  Ontario  M3M 3G7  43.723780 -79.488756   \n",
       "2     416-323-7559 x6  Toronto  Ontario  M5S 1B2  43.661514 -79.387121   \n",
       "3        416-864-3096  Toronto  Ontario  M4X 1K2  43.664728 -79.374172   \n",
       "4  416-530-6486 x3969  Toronto  Ontario  M6R 1B5  43.640394 -79.450347   \n",
       "5        416-726-5052  Toronto  Ontario  M5T 2S8  43.653386 -79.405942   \n",
       "6        416-461-8272  Toronto  Ontario  M4C 3E7  43.689871 -79.324858   \n",
       "7        416-480-6736  Toronto  Ontario  M4N 3M5  43.722846 -79.372875   \n",
       "8   416-657-0379 x234  Toronto  Ontario  M4Y 1T2  43.668886 -79.385876   \n",
       "\n",
       "   Distance  \n",
       "0         0  \n",
       "1         0  \n",
       "2         0  \n",
       "3         0  \n",
       "4         0  \n",
       "5         0  \n",
       "6         0  \n",
       "7         0  \n",
       "8         0  "
      ]
     },
     "execution_count": 229,
     "metadata": {},
     "output_type": "execute_result"
    }
   ],
   "source": [
    "raam_clinics"
   ]
  },
  {
   "cell_type": "markdown",
   "metadata": {},
   "source": [
    "<div style=\"text-align: right\">(<a href=\"#contents\">home</a>) </div>"
   ]
  },
  {
   "cell_type": "markdown",
   "metadata": {},
   "source": [
    "### Get geocoding data for our datasets"
   ]
  },
  {
   "cell_type": "code",
   "execution_count": 36,
   "metadata": {},
   "outputs": [],
   "source": [
    "'''One option is to Iterate through the list and query for the longitude and latitude \n",
    "using the Geocoder API. Unhash the code below (and the subsequent cell) \n",
    "if you wish to run the process to gather the latitude and longitude coordinates. \n",
    "\n",
    "NOTE: I found the Geocoder API to not be very accurate. See the note in the function\n",
    "for more details. The saved csv files have the longitude and latitude built into them\n",
    "already'''\n",
    "\n",
    "# bulk_postal_code_to_lat_long(pharmacies_to_process)\n",
    "\n",
    "''' Save the transformed data\n",
    "pharmacies_to_process.to_csv('csv/toronto_pharmacies_saved.csv', index = False)'''"
   ]
  },
  {
   "cell_type": "code",
   "execution_count": 37,
   "metadata": {},
   "outputs": [],
   "source": [
    "''' Save the transformed data\n",
    "pharmacies_to_process.to_csv('csv/toronto_pharmacies_saved.csv', index = False)'''"
   ]
  },
  {
   "cell_type": "markdown",
   "metadata": {},
   "source": [
    "<div style=\"text-align: right\">(<a href=\"#contents\">home</a>) </div>"
   ]
  },
  {
   "cell_type": "markdown",
   "metadata": {},
   "source": [
    "<a name=\"user-experience\"></a>\n",
    "## User experience"
   ]
  },
  {
   "cell_type": "code",
   "execution_count": 401,
   "metadata": {},
   "outputs": [
    {
     "name": "stdout",
     "output_type": "stream",
     "text": [
      "Welcome! May I please have your first name? shawn\n",
      "What do you want to do today: (1) Get Naloxone to save a life, (2) Access recovery resources,(3) Access safer-injection facilities? 2\n",
      "\n",
      "If you or someone you know is serious about recovery,\n",
      "physicians at a rapid-access-to-addiction-medicine (RAAM)\n",
      "clinic and help you today.\n",
      "\n",
      "shawn, your closest Rapid Access to Addiction Medicine clinic is University Health Network, located at 399 Bathurst Street, 1st floor,.\n",
      "Here is a map showing your nearest Rapid Access to Addiction Medicine clinic, shawn.\n"
     ]
    },
    {
     "name": "stderr",
     "output_type": "stream",
     "text": [
      "C:\\ProgramData\\Anaconda3\\lib\\site-packages\\ipykernel_launcher.py:74: SettingWithCopyWarning: \n",
      "A value is trying to be set on a copy of a slice from a DataFrame\n",
      "\n",
      "See the caveats in the documentation: https://pandas.pydata.org/pandas-docs/stable/user_guide/indexing.html#returning-a-view-versus-a-copy\n"
     ]
    },
    {
     "data": {
      "text/html": [
       "<div style=\"width:100%;\"><div style=\"position:relative;width:100%;height:0;padding-bottom:60%;\"><span style=\"color:#565656\">Make this Notebook Trusted to load map: File -> Trust Notebook</span><iframe src=\"about:blank\" style=\"position:absolute;width:100%;height:100%;left:0;top:0;border:none !important;\" data-html=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 onload=\"this.contentDocument.open();this.contentDocument.write(atob(this.getAttribute('data-html')));this.contentDocument.close();\" allowfullscreen webkitallowfullscreen mozallowfullscreen></iframe></div></div>"
      ],
      "text/plain": [
       "<folium.folium.Map at 0x1658af8c248>"
      ]
     },
     "execution_count": 401,
     "metadata": {},
     "output_type": "execute_result"
    }
   ],
   "source": [
    "user_experience()"
   ]
  },
  {
   "cell_type": "markdown",
   "metadata": {},
   "source": [
    "<img src='img/sample_mappng_large.png'>"
   ]
  },
  {
   "cell_type": "markdown",
   "metadata": {},
   "source": [
    "<div style=\"text-align: right\">(<a href=\"#contents\">home</a>) </div>"
   ]
  }
 ],
 "metadata": {
  "kernelspec": {
   "display_name": "Python 3",
   "language": "python",
   "name": "python3"
  },
  "language_info": {
   "codemirror_mode": {
    "name": "ipython",
    "version": 3
   },
   "file_extension": ".py",
   "mimetype": "text/x-python",
   "name": "python",
   "nbconvert_exporter": "python",
   "pygments_lexer": "ipython3",
   "version": "3.7.6"
  }
 },
 "nbformat": 4,
 "nbformat_minor": 4
}
