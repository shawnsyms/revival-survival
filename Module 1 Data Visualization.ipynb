{
 "cells": [
  {
   "cell_type": "markdown",
   "metadata": {},
   "source": [
    "<img src='img/revival_hero_image-dan-meyers-unsplash.png'>"
   ]
  },
  {
   "cell_type": "markdown",
   "metadata": {},
   "source": [
    "<small>Photo by Dan Meyers for Unsplash</small>"
   ]
  },
  {
   "cell_type": "markdown",
   "metadata": {},
   "source": [
    "# Revival = Survival: A data project about the overdose crisis\n",
    "by Shawn Syms\n",
    "<br>\n",
    "<br>"
   ]
  },
  {
   "cell_type": "markdown",
   "metadata": {},
   "source": [
    "<a name=\"contents\"></a>\n",
    "## Contents\n",
    "\n",
    "* <a href=\"#executive-summary\">Executive summary</a>\n",
    "* <a href='#data-visualization'>Module 1: Data visualization: Learning about the overdose crisis in Canada and Toronto</a>\n"
   ]
  },
  {
   "cell_type": "markdown",
   "metadata": {},
   "source": [
    "<a name=\"executive-summary\"></a>\n",
    "## Executive summary"
   ]
  },
  {
   "cell_type": "markdown",
   "metadata": {},
   "source": [
    "The purpose of this project is three-fold. First, I use data visualization tools and techniques to tell the story of the current state of the overdose epidemic nationally and locally. Second, I have trained a machine-learning model to try and predict overdose outcomes given relevant data. Third, I've built a simple tool based on multiple geo-spatial datasets where users can access resources to help stop overdoses, including pharmacies where they can access naloxone. Carrying it on their person, anyone can save a life."
   ]
  },
  {
   "cell_type": "markdown",
   "metadata": {},
   "source": [
    "<div style=\"text-align: right\">(<a href=\"#contents\">home</a>) </div>"
   ]
  },
  {
   "cell_type": "markdown",
   "metadata": {},
   "source": [
    "<a name=\"data-visualization\"></a>\n",
    "## Module 1: Learning about the overdose crisis in Canada and Toronto through data visualization"
   ]
  },
  {
   "cell_type": "markdown",
   "metadata": {},
   "source": [
    "An interactive version of these visualizations is available online at:\n",
    "\n",
    "> <a href='https://public.tableau.com/profile/shawn.syms#!/vizhome/shared/2DNT56KHS'>Tableau Public: Shawn Syms</a>\n",
    "\n",
    "<strong>SUMMARY:</strong> I review multiple datasets with national, province and local information to see what they reveal about the opioid-overdose crisis here at home. \n",
    "\n",
    "### Key Data Points\n",
    "1. The opioid overdose crisis is a growing issue here in Canada. "
   ]
  },
  {
   "cell_type": "markdown",
   "metadata": {},
   "source": [
    "<img src='img/revival-data_visualization_1.png'>"
   ]
  },
  {
   "cell_type": "markdown",
   "metadata": {},
   "source": [
    "<br><br>\n",
    "2. Across Ontario, drugs with an astonishing toxicity are available."
   ]
  },
  {
   "cell_type": "markdown",
   "metadata": {},
   "source": [
    "<img src='img/revival-data_visualization_2.png'>"
   ]
  },
  {
   "cell_type": "markdown",
   "metadata": {},
   "source": [
    "<br><br>\n",
    "3. As Fentanyl enters the drug trade, more and more lives are lost."
   ]
  },
  {
   "cell_type": "markdown",
   "metadata": {},
   "source": [
    "<img src='img/revival-data_visualization_3.png'>"
   ]
  },
  {
   "cell_type": "markdown",
   "metadata": {},
   "source": [
    "<br><br>\n",
    "4. Deaths start to taper when Safer Injection Facilities arrive. "
   ]
  },
  {
   "cell_type": "markdown",
   "metadata": {},
   "source": [
    "<img src='img/revival-data_visualization_4.png'>"
   ]
  },
  {
   "cell_type": "markdown",
   "metadata": {},
   "source": [
    "<br><br>\n",
    "5. But there is more we can do to save lives, using Naloxone. "
   ]
  },
  {
   "cell_type": "markdown",
   "metadata": {},
   "source": [
    "<img src='img/revival-data_visualization_5.png'>"
   ]
  },
  {
   "cell_type": "markdown",
   "metadata": {},
   "source": [
    "<div style=\"text-align: right\">(<a href=\"#contents\">home</a>) </div>"
   ]
  },
  {
   "cell_type": "markdown",
   "metadata": {},
   "source": [
    "Please see the notebook Module 2 for the next section."
   ]
  }
 ],
 "metadata": {
  "kernelspec": {
   "display_name": "Python 3",
   "language": "python",
   "name": "python3"
  },
  "language_info": {
   "codemirror_mode": {
    "name": "ipython",
    "version": 3
   },
   "file_extension": ".py",
   "mimetype": "text/x-python",
   "name": "python",
   "nbconvert_exporter": "python",
   "pygments_lexer": "ipython3",
   "version": "3.7.6"
  }
 },
 "nbformat": 4,
 "nbformat_minor": 4
}
